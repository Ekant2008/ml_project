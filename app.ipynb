{
 "cells": [
  {
   "cell_type": "code",
   "execution_count": 10,
   "id": "fdb28aff",
   "metadata": {},
   "outputs": [
    {
     "name": "stdout",
     "output_type": "stream",
     "text": [
      "Requirement already satisfied: virtualenv in c:\\users\\hp\\anaconda3\\lib\\site-packages (20.25.0)\n",
      "Requirement already satisfied: distlib<1,>=0.3.7 in c:\\users\\hp\\anaconda3\\lib\\site-packages (from virtualenv) (0.3.8)\n",
      "Requirement already satisfied: filelock<4,>=3.12.2 in c:\\users\\hp\\anaconda3\\lib\\site-packages (from virtualenv) (3.13.1)\n",
      "Requirement already satisfied: platformdirs<5,>=3.9.1 in c:\\users\\hp\\anaconda3\\lib\\site-packages (from virtualenv) (3.10.0)\n",
      "Note: you may need to restart the kernel to use updated packages.\n"
     ]
    }
   ],
   "source": [
    "pip install virtualenv"
   ]
  },
  {
   "cell_type": "code",
   "execution_count": 15,
   "id": "ef2a9cf3",
   "metadata": {},
   "outputs": [
    {
     "name": "stdout",
     "output_type": "stream",
     "text": [
      " * Serving Flask app '__main__'\n",
      " * Debug mode: on\n"
     ]
    },
    {
     "name": "stderr",
     "output_type": "stream",
     "text": [
      "WARNING: This is a development server. Do not use it in a production deployment. Use a production WSGI server instead.\n",
      " * Running on http://127.0.0.1:5000\n",
      "INFO:werkzeug:\u001b[31m\u001b[1mWARNING: This is a development server. Do not use it in a production deployment. Use a production WSGI server instead.\u001b[0m\n",
      " * Running on http://127.0.0.1:5000\n",
      "Press CTRL+C to quit\n",
      "INFO:werkzeug:\u001b[33mPress CTRL+C to quit\u001b[0m\n",
      " * Restarting with watchdog (windowsapi)\n",
      "INFO:werkzeug: * Restarting with watchdog (windowsapi)\n"
     ]
    },
    {
     "ename": "SystemExit",
     "evalue": "1",
     "output_type": "error",
     "traceback": [
      "An exception has occurred, use %tb to see the full traceback.\n",
      "\u001b[1;31mSystemExit\u001b[0m\u001b[1;31m:\u001b[0m 1\n"
     ]
    }
   ],
   "source": [
    "from flask import Flask, jsonify, request\n",
    "from flask_cors import CORS\n",
    "from joblib import load\n",
    "\n",
    "presence_classifier = load('presence_classifer.joblib')\n",
    "presence_vect = load('presence_vectorizer.joblib')\n",
    "category_classifier = load('category_classifier.joblib')\n",
    "category_vect = load('category_vectorizer.joblib')\n",
    "\n",
    "app = Flask(__name__)\n",
    "CORS(app)\n",
    "\n",
    "@app.route('/', methods=['POST'])\n",
    "def main():\n",
    "    if request.method == 'POST':\n",
    "        output = []\n",
    "        data = request.get_json().get('tokens')\n",
    "\n",
    "        for token in data:\n",
    "            result = presence_classifier.predict(presence_vect.transform([token]))\n",
    "            if result == 'Dark':\n",
    "                cat = category_classifier.predict(category_vect.transform([token]))\n",
    "                output.append(cat[0])\n",
    "            else:\n",
    "                output.append(result[0])\n",
    "\n",
    "        dark = [data[i] for i in range(len(output)) if output[i] == 'Dark']\n",
    "        for d in dark:\n",
    "            print(d)\n",
    "        print()\n",
    "        print(len(dark))\n",
    "\n",
    "        message = '{ \\'result\\': ' + str(output) + ' }'\n",
    "        print(message)\n",
    "\n",
    "        json = jsonify(message)\n",
    "\n",
    "        return json\n",
    "\n",
    "if __name__ == '__main__':\n",
    "    app.run(host='0.0.0.0')"
   ]
  },
  {
   "cell_type": "code",
   "execution_count": null,
   "id": "beba8ef0",
   "metadata": {},
   "outputs": [],
   "source": []
  },
  {
   "cell_type": "code",
   "execution_count": null,
   "id": "ef11cfa5",
   "metadata": {},
   "outputs": [],
   "source": []
  }
 ],
 "metadata": {
  "kernelspec": {
   "display_name": "Python 3 (ipykernel)",
   "language": "python",
   "name": "python3"
  },
  "language_info": {
   "codemirror_mode": {
    "name": "ipython",
    "version": 3
   },
   "file_extension": ".py",
   "mimetype": "text/x-python",
   "name": "python",
   "nbconvert_exporter": "python",
   "pygments_lexer": "ipython3",
   "version": "3.11.5"
  }
 },
 "nbformat": 4,
 "nbformat_minor": 5
}
